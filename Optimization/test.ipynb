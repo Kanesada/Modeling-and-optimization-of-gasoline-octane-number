{
 "cells": [
  {
   "cell_type": "code",
   "execution_count": 1,
   "metadata": {},
   "outputs": [],
   "source": [
    "import pandas as pd"
   ]
  },
  {
   "cell_type": "code",
   "execution_count": 2,
   "metadata": {},
   "outputs": [
    {
     "data": {
      "text/plain": [
       "25"
      ]
     },
     "execution_count": 2,
     "metadata": {},
     "output_type": "execute_result"
    }
   ],
   "source": [
    "data_354 = pd.read_csv('354.csv')\n",
    "data_need = pd.read_csv('data_test.csv')\n",
    "data_need.shape[1]"
   ]
  },
  {
   "cell_type": "code",
   "execution_count": 4,
   "metadata": {
    "tags": []
   },
   "outputs": [
    {
     "name": "stdout",
     "output_type": "stream",
     "text": [
      "<built-in method index of list object at 0x000001567C74C088>\n",
      "<built-in method index of list object at 0x000001567C866848>\n",
      "<built-in method index of list object at 0x000001567C866848>\n",
      "<built-in method index of list object at 0x000001567C866848>\n",
      "<built-in method index of list object at 0x000001567C74C088>\n",
      "<built-in method index of list object at 0x000001567C74C088>\n",
      "<built-in method index of list object at 0x000001567C74C088>\n",
      "<built-in method index of list object at 0x000001567C74C088>\n",
      "<built-in method index of list object at 0x000001567C74C088>\n",
      "<built-in method index of list object at 0x000001567C74C088>\n",
      "<built-in method index of list object at 0x000001567C74C088>\n",
      "<built-in method index of list object at 0x000001567C74C088>\n",
      "<built-in method index of list object at 0x000001567C74C088>\n",
      "<built-in method index of list object at 0x000001567C74C088>\n",
      "<built-in method index of list object at 0x000001567C74C088>\n",
      "<built-in method index of list object at 0x000001567C74C088>\n",
      "<built-in method index of list object at 0x000001567C74C088>\n",
      "<built-in method index of list object at 0x000001567C74C088>\n",
      "<built-in method index of list object at 0x000001567C74C088>\n",
      "<built-in method index of list object at 0x000001567C74C088>\n",
      "<built-in method index of list object at 0x000001567C74C088>\n",
      "<built-in method index of list object at 0x000001567C74C088>\n",
      "<built-in method index of list object at 0x000001567C74C088>\n",
      "<built-in method index of list object at 0x000001567C74C088>\n",
      "<built-in method index of list object at 0x000001567C74C088>\n"
     ]
    }
   ],
   "source": [
    "mylist=[]\n",
    "for i in range(0, data_need.shape[1]):\n",
    "    #mylist.append([data_354.values == data_need.columns[i]].index)\n",
    "    print([data_354.values == data_need.columns[i]].index)"
   ]
  },
  {
   "cell_type": "code",
   "execution_count": null,
   "metadata": {},
   "outputs": [],
   "source": []
  }
 ],
 "metadata": {
  "kernelspec": {
   "display_name": "Python 3",
   "language": "python",
   "name": "python3"
  },
  "language_info": {
   "codemirror_mode": {
    "name": "ipython",
    "version": 3
   },
   "file_extension": ".py",
   "mimetype": "text/x-python",
   "name": "python",
   "nbconvert_exporter": "python",
   "pygments_lexer": "ipython3",
   "version": "3.7.6"
  }
 },
 "nbformat": 4,
 "nbformat_minor": 2
}
